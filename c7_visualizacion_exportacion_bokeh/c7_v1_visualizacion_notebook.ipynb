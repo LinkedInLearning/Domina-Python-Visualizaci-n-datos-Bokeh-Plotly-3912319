{
 "cells": [
  {
   "cell_type": "code",
   "execution_count": null,
   "id": "99623f64-bdeb-4271-a4d4-ab67c6caca7f",
   "metadata": {},
   "outputs": [],
   "source": [
    "import numpy as np\n",
    "\n",
    "from bokeh.io import output_notebook\n",
    "from bokeh.plotting import figure, show"
   ]
  },
  {
   "cell_type": "code",
   "execution_count": null,
   "id": "f2945d44-ee3f-4717-877f-5fec037b4b37",
   "metadata": {},
   "outputs": [],
   "source": [
    "output_notebook()"
   ]
  },
  {
   "cell_type": "code",
   "execution_count": null,
   "id": "0d15431f-7bda-451d-891f-63f50bbdcade",
   "metadata": {},
   "outputs": [],
   "source": [
    "x = np.linspace(0, 2*np.pi, 100)\n",
    "y1 = np.sin(x)\n",
    "y2 = np.cos(x)"
   ]
  },
  {
   "cell_type": "code",
   "execution_count": null,
   "id": "41bd65cf-317c-4bef-aaf0-f24efb774aea",
   "metadata": {},
   "outputs": [],
   "source": [
    "fig = figure()\n",
    "\n",
    "fig.line(x, y1, legend_label=\"Sin(x)\", line_color=\"blue\")\n",
    "fig.line(x, y2, legend_label=\"Cos(x)\", line_color=\"green\")\n",
    "\n",
    "fig.legend.title = \"Funciones\"\n",
    "fig.legend.location = \"top_left\""
   ]
  },
  {
   "cell_type": "code",
   "execution_count": null,
   "id": "aec80372-2dec-4019-96fb-c352fab7a20d",
   "metadata": {},
   "outputs": [],
   "source": [
    "show(fig)"
   ]
  },
  {
   "cell_type": "code",
   "execution_count": null,
   "id": "92a6273a-3a8e-4deb-afdc-4f6da58b3aa4",
   "metadata": {},
   "outputs": [],
   "source": []
  }
 ],
 "metadata": {
  "kernelspec": {
   "display_name": "Python 3 (ipykernel)",
   "language": "python",
   "name": "python3"
  },
  "language_info": {
   "codemirror_mode": {
    "name": "ipython",
    "version": 3
   },
   "file_extension": ".py",
   "mimetype": "text/x-python",
   "name": "python",
   "nbconvert_exporter": "python",
   "pygments_lexer": "ipython3",
   "version": "3.11.11"
  }
 },
 "nbformat": 4,
 "nbformat_minor": 5
}
